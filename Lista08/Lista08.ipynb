{
 "cells": [
  {
   "cell_type": "markdown",
   "metadata": {
    "deletable": false,
    "editable": false,
    "nbgrader": {
     "checksum": "796114292f40d93792b787b19fbed7ee",
     "grade": false,
     "grade_id": "cellc-a00",
     "locked": true,
     "schema_version": 1,
     "solution": false
    }
   },
   "source": [
    "# Lista 08 - Comparando Regressões"
   ]
  },
  {
   "cell_type": "markdown",
   "metadata": {
    "deletable": false,
    "editable": false,
    "nbgrader": {
     "checksum": "c77a6c3fedbe648e6e209ba6323f711e",
     "grade": false,
     "grade_id": "cell-acd6c643a4ce1477",
     "locked": true,
     "schema_version": 1,
     "solution": false
    }
   },
   "source": [
    "# Exercício 01:\n",
    "\n",
    "Analise o desempenho do kNN e de uma Regressão Linear Regularizada para **pelo menos um** dos conjuntos de dados disponível na [seção de regressão linear múltipla](http://college.cengage.com/mathematics/brase/understandable_statistics/7e/students/datasets/mlr/frames/frame.html) da página do *Livro Understandable Statistics* de Charles Brase e Corrinne Brase. Para o conjunto de dados que escolheu, execute a regressão linear múltipla para explicar o fator $X1$ dos dados ([ver descrição de um dos conjuntos](http://college.cengage.com/mathematics/brase/understandable_statistics/7e/students/datasets/mlr/frames/frame.html)) a partir dos outros fatores. \n",
    "\n",
    "Para a questão, faça as seguintes tarefas:\n",
    "\n",
    "* Realize treino, validação e teste\n",
    "* Compare as métricas no teste\n",
    "* Diferente da lista anterior, reporte o erro quadrado médio no conjunto de teste."
   ]
  },
  {
   "cell_type": "markdown",
   "metadata": {
    "deletable": false,
    "nbgrader": {
     "checksum": "c4c170d5f5a66e6cffe2a8da92fb9285",
     "grade": true,
     "grade_id": "cell-1b46a0ab690a7b8c",
     "locked": false,
     "points": 4,
     "schema_version": 1,
     "solution": true
    }
   },
   "source": [
    "# Dados de Saúde\n",
    "A base de dados escolhida foi a de dados de Saúde "
   ]
  },
  {
   "cell_type": "code",
   "execution_count": 1,
   "metadata": {},
   "outputs": [
    {
     "name": "stdout",
     "output_type": "stream",
     "text": [
      "*** No CODEPAGE record, no encoding_override: will use 'ascii'\n"
     ]
    },
    {
     "data": {
      "text/html": [
       "<div>\n",
       "<style scoped>\n",
       "    .dataframe tbody tr th:only-of-type {\n",
       "        vertical-align: middle;\n",
       "    }\n",
       "\n",
       "    .dataframe tbody tr th {\n",
       "        vertical-align: top;\n",
       "    }\n",
       "\n",
       "    .dataframe thead th {\n",
       "        text-align: right;\n",
       "    }\n",
       "</style>\n",
       "<table border=\"1\" class=\"dataframe\">\n",
       "  <thead>\n",
       "    <tr style=\"text-align: right;\">\n",
       "      <th></th>\n",
       "      <th>X1</th>\n",
       "      <th>X2</th>\n",
       "      <th>X3</th>\n",
       "      <th>X4</th>\n",
       "      <th>X5</th>\n",
       "    </tr>\n",
       "  </thead>\n",
       "  <tbody>\n",
       "    <tr>\n",
       "      <th>0</th>\n",
       "      <td>8.0</td>\n",
       "      <td>-1.005483</td>\n",
       "      <td>-0.919349</td>\n",
       "      <td>-0.312289</td>\n",
       "      <td>-0.034793</td>\n",
       "    </tr>\n",
       "    <tr>\n",
       "      <th>1</th>\n",
       "      <td>9.3</td>\n",
       "      <td>-1.269429</td>\n",
       "      <td>-0.471389</td>\n",
       "      <td>-0.684230</td>\n",
       "      <td>0.707051</td>\n",
       "    </tr>\n",
       "    <tr>\n",
       "      <th>2</th>\n",
       "      <td>7.5</td>\n",
       "      <td>-1.216640</td>\n",
       "      <td>0.448585</td>\n",
       "      <td>-2.079006</td>\n",
       "      <td>0.049989</td>\n",
       "    </tr>\n",
       "    <tr>\n",
       "      <th>3</th>\n",
       "      <td>8.9</td>\n",
       "      <td>-0.530381</td>\n",
       "      <td>3.614376</td>\n",
       "      <td>-0.498260</td>\n",
       "      <td>-0.289139</td>\n",
       "    </tr>\n",
       "    <tr>\n",
       "      <th>4</th>\n",
       "      <td>10.2</td>\n",
       "      <td>-1.111061</td>\n",
       "      <td>-0.339105</td>\n",
       "      <td>-1.056170</td>\n",
       "      <td>2.021175</td>\n",
       "    </tr>\n",
       "  </tbody>\n",
       "</table>\n",
       "</div>"
      ],
      "text/plain": [
       "     X1        X2        X3        X4        X5\n",
       "0   8.0 -1.005483 -0.919349 -0.312289 -0.034793\n",
       "1   9.3 -1.269429 -0.471389 -0.684230  0.707051\n",
       "2   7.5 -1.216640  0.448585 -2.079006  0.049989\n",
       "3   8.9 -0.530381  3.614376 -0.498260 -0.289139\n",
       "4  10.2 -1.111061 -0.339105 -1.056170  2.021175"
      ]
     },
     "execution_count": 1,
     "metadata": {},
     "output_type": "execute_result"
    }
   ],
   "source": [
    "import pandas as pd\n",
    "import matplotlib.pyplot as plt\n",
    "from sklearn.linear_model import LogisticRegression\n",
    "\n",
    "from sklearn.neighbors import KNeighborsRegressor\n",
    "from sklearn.model_selection import train_test_split\n",
    "\n",
    "from sklearn.metrics import mean_squared_error\n",
    "from sklearn.model_selection import KFold\n",
    "from sklearn.metrics import classification_report\n",
    "from sklearn.linear_model import Ridge\n",
    "\n",
    "\n",
    "df = pd.read_excel(\"data.xls\")\n",
    "FEATURES=[\"X2\",\"X3\",\"X4\",\"X5\"]\n",
    "TARGET = [\"X1\"]\n",
    "#normalizando os dados\n",
    "df[FEATURES]-=df[FEATURES].mean()\n",
    "df[FEATURES]/=df[FEATURES].std(ddof=1)\n",
    "df.head()"
   ]
  },
  {
   "cell_type": "markdown",
   "metadata": {},
   "source": [
    "## KNN\n",
    "Aqui, variamos a quantidade de vizinhos que iremos considerar no modelo"
   ]
  },
  {
   "cell_type": "code",
   "execution_count": 2,
   "metadata": {},
   "outputs": [],
   "source": [
    "splits = 5\n",
    "skf = KFold(n_splits=splits)\n",
    "X_train, X_test, y_train, y_test = train_test_split(df[FEATURES], df[TARGET], test_size=0.2, random_state=23)"
   ]
  },
  {
   "cell_type": "code",
   "execution_count": 3,
   "metadata": {},
   "outputs": [
    {
     "name": "stdout",
     "output_type": "stream",
     "text": [
      "N-1, acc = 4.007833519981786\n",
      "N-2, acc = 3.2010141016809164\n",
      "N-3, acc = 3.1029291807113673\n",
      "N-4, acc = 2.982675515549685\n",
      "N-5, acc = 2.7120079835267363\n",
      "N-6, acc = 2.622294932719353\n",
      "N-7, acc = 2.386023984467831\n",
      "N-8, acc = 2.3677189225849498\n",
      "N-9, acc = 2.5063870092759872\n",
      "N-10, acc = 2.585869895746761\n"
     ]
    }
   ],
   "source": [
    "\n",
    "fold = 0\n",
    "melhores = []\n",
    "results = []\n",
    "for nn in range(1,11): \n",
    "    best = (0, 0)\n",
    "    accuracy=0\n",
    "    for treino, validacao in skf.split(X_train, y_train):\n",
    "        X_tt = X_train.iloc[treino]\n",
    "        y_tt = y_train.iloc[treino]\n",
    "        X_v = X_train.iloc[validacao]\n",
    "        y_v = y_train.iloc[validacao]\n",
    "\n",
    "        model = KNeighborsRegressor(n_neighbors=nn)\n",
    "        model.fit(X_tt, y_tt) \n",
    "        y_pv = model.predict(X_v) \n",
    "\n",
    "        accuracy += mean_squared_error(y_v, y_pv)\n",
    "    accuracy/=splits\n",
    "    results.append([accuracy,nn])\n",
    "    if accuracy > best[0]:\n",
    "        best = (accuracy, nn)\n",
    "\n",
    "    melhores.append(best[1])\n",
    "    fold += 1\n",
    "    print('N-{}, acc = {}'.format(fold, best[0]))"
   ]
  },
  {
   "cell_type": "code",
   "execution_count": 4,
   "metadata": {},
   "outputs": [
    {
     "data": {
      "image/png": "[encoded data removed]",
      "text/plain": [
       "<Figure size 432x288 with 1 Axes>"
      ]
     },
     "metadata": {
      "needs_background": "light"
     },
     "output_type": "display_data"
    }
   ],
   "source": [
    "res = pd.DataFrame(results,columns=[\"MSE\",\"K\"])\n",
    "plt.plot(res[\"K\"],res[\"MSE\"])\n",
    "plt.xlabel(\"K\")\n",
    "plt.ylabel(\"MSE\")\n",
    "plt.show()"
   ]
  },
  {
   "cell_type": "markdown",
   "metadata": {},
   "source": [
    "Como pudemos observar, N = 8 nos dá o menor MSE. Logo, iremos criar um novelo modelo com K=8."
   ]
  },
  {
   "cell_type": "code",
   "execution_count": 5,
   "metadata": {},
   "outputs": [
    {
     "name": "stdout",
     "output_type": "stream",
     "text": [
      "4.812031265463989\n"
     ]
    }
   ],
   "source": [
    "\n",
    "model = KNeighborsRegressor(n_neighbors=8)\n",
    "model.fit(X_train, y_train) \n",
    "y_pv = model.predict(X_test)\n",
    "\n",
    "print(mean_squared_error( y_pv,y_test))\n"
   ]
  },
  {
   "cell_type": "markdown",
   "metadata": {},
   "source": [
    "## Regressão Linear Regularizada\n",
    "Aqui, variamos o alpha da regressao linear regularizada"
   ]
  },
  {
   "cell_type": "code",
   "execution_count": 6,
   "metadata": {},
   "outputs": [],
   "source": [
    "splits = 5\n",
    "skf = KFold(n_splits=splits)\n",
    "X_train, X_test, y_train, y_test = train_test_split(df[FEATURES], df[TARGET], test_size=0.2, random_state=23)"
   ]
  },
  {
   "cell_type": "code",
   "execution_count": 7,
   "metadata": {},
   "outputs": [
    {
     "name": "stdout",
     "output_type": "stream",
     "text": [
      "Aplha 1, acc = 2.3677189225849498\n",
      "Aplha 2, acc = 2.3677189225849498\n",
      "Aplha 3, acc = 2.3677189225849498\n",
      "Aplha 4, acc = 2.3677189225849498\n",
      "Aplha 5, acc = 2.3677189225849498\n",
      "Aplha 6, acc = 2.3677189225849498\n",
      "Aplha 7, acc = 2.3677189225849498\n",
      "Aplha 8, acc = 2.3677189225849498\n",
      "Aplha 9, acc = 2.3677189225849498\n",
      "Aplha 10, acc = 2.3677189225849498\n"
     ]
    }
   ],
   "source": [
    "\n",
    "\n",
    "fold = 0\n",
    "melhores = []\n",
    "results = []\n",
    "for alpha in range(1,11): \n",
    "    best = (0, 0)\n",
    "    accuracy=0\n",
    "    for treino, validacao in skf.split(X_train, y_train):\n",
    "        X_tt = X_train.iloc[treino]\n",
    "        y_tt = y_train.iloc[treino]\n",
    "        X_v = X_train.iloc[validacao]\n",
    "        y_v = y_train.iloc[validacao]\n",
    "        clf = Ridge(alpha=alpha * 0.1)\n",
    "        model.fit(X_tt, y_tt) \n",
    "        y_pv = model.predict(X_v) \n",
    "\n",
    "        accuracy += mean_squared_error(y_v, y_pv)\n",
    "    accuracy/=splits\n",
    "    results.append([accuracy,alpha])\n",
    "    if accuracy > best[0]:\n",
    "        best = (accuracy, nn)\n",
    "\n",
    "    melhores.append(best[1])\n",
    "    fold += 1\n",
    "    print('Aplha {}, acc = {}'.format(fold, best[0]))\n",
    "    "
   ]
  },
  {
   "cell_type": "code",
   "execution_count": 8,
   "metadata": {},
   "outputs": [
    {
     "data": {
      "image/png": "[encoded data removed]",
      "text/plain": [
       "<Figure size 432x288 with 1 Axes>"
      ]
     },
     "metadata": {
      "needs_background": "light"
     },
     "output_type": "display_data"
    }
   ],
   "source": [
    "\n",
    "res = pd.DataFrame(results,columns=[\"MSE\",\"ALPHA\"])\n",
    "plt.plot(res[\"ALPHA\"]*0.1,res[\"MSE\"])\n",
    "plt.xlabel(\"ALPHA\")\n",
    "plt.ylabel(\"MSE\")\n",
    "plt.show()"
   ]
  },
  {
   "cell_type": "code",
   "execution_count": 9,
   "metadata": {},
   "outputs": [
    {
     "name": "stdout",
     "output_type": "stream",
     "text": [
      "3.619568201227736\n"
     ]
    }
   ],
   "source": [
    "model = Ridge(alpha=5)\n",
    "model.fit(X_train, y_train) \n",
    "y_pv = model.predict(X_test)\n",
    "\n",
    "print(mean_squared_error( y_pv,y_test))"
   ]
  },
  {
   "cell_type": "markdown",
   "metadata": {
    "deletable": false,
    "editable": false,
    "nbgrader": {
     "checksum": "c5c0a788bafbd1227adf600b857ee636",
     "grade": false,
     "grade_id": "cell-b8fab7f24e1b2a35",
     "locked": true,
     "schema_version": 1,
     "solution": false
    }
   },
   "source": [
    "Explique e discuta sobre os resultados encontrados no campo abaixo."
   ]
  },
  {
   "cell_type": "markdown",
   "metadata": {
    "deletable": false,
    "nbgrader": {
     "checksum": "27383ddc0e3db055b7bbfb577b77eca6",
     "grade": true,
     "grade_id": "cell-713eb691ead1e6c1",
     "locked": false,
     "points": 1,
     "schema_version": 1,
     "solution": true
    }
   },
   "source": [
    "A regressão linear tem menores valores de erro, tanto para validação quanto para teste, em comparação à regressão utilizando KNN. Este resultado pode ser explicado pelo fato de que, com poucos dados (visto o tamanho reduzido dos datasets), a regressão linear pode obter uma aproximação mais fidedigna, ao passo que o KNN depende dos vizinhos, que pode causar ruído. Vale ressaltar que, para manter a reprodutibilidade dos experimentos, não foi adicionada a flag shuffle na separação treino/teste, o que causou a regressão linear apresentar o mesmo MSE para todos os valores de alpha"
   ]
  }
 ],
 "metadata": {
  "kernelspec": {
   "display_name": "Python 3",
   "language": "python",
   "name": "python3"
  },
  "language_info": {
   "codemirror_mode": {
    "name": "ipython",
    "version": 3
   },
   "file_extension": ".py",
   "mimetype": "text/x-python",
   "name": "python",
   "nbconvert_exporter": "python",
   "pygments_lexer": "ipython3",
   "version": "3.7.3"
  }
 },
 "nbformat": 4,
 "nbformat_minor": 2
}
